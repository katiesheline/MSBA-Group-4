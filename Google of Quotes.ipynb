{
 "cells": [
  {
   "cell_type": "markdown",
   "metadata": {},
   "source": [
    "Google of Quotes\n",
    "\n",
    "First we will import what we will need for this program"
   ]
  },
  {
   "cell_type": "code",
   "execution_count": 4,
   "metadata": {
    "collapsed": true
   },
   "outputs": [],
   "source": [
    "import re\n",
    "from collections import Counter\n",
    "from pprint import pprint\n",
    "import math"
   ]
  },
  {
   "cell_type": "markdown",
   "metadata": {},
   "source": [
    "Our first function is read_quotes().  This will take a text file and read it into a list with the quote and the speaker contained in the same item.  The items will be strings."
   ]
  },
  {
   "cell_type": "code",
   "execution_count": 5,
   "metadata": {
    "collapsed": true
   },
   "outputs": [],
   "source": [
    "def read_quotes(input):\n",
    "\n",
    "    lines = open(input).read().split('\\n')\n",
    "    quote_list = []\n",
    "    for i in range(0,len(lines)-1,2):\n",
    "        quote1 = str(lines[i].replace('\"', \"\"))\n",
    "        quote1 = str(quote1.replace('.', \"\"))\n",
    "        quote1 = str(quote1.replace(',', \"\"))\n",
    "        quote1 = str(quote1.replace('?', \"\"))\n",
    "        quote1 = str(quote1.replace(\"(\", \"\"))\n",
    "        quote1 = str(quote1.replace(\")\", \"\"))\n",
    "        quote1 = str(quote1.replace(\":\", \"\"))\n",
    "        quote1 = str(quote1.replace(\";\", \"\"))\n",
    "        quote2 = quote1 + \" - \" + str(lines[i+1])\n",
    "        quote_list.append(quote2)\n",
    "    return quote_list"
   ]
  },
  {
   "cell_type": "markdown",
   "metadata": {},
   "source": [
    "The next function is words from quotes.  This function will split a quote into a list of words contained in the quote.  If a word appears in the quote more than once, it will only be in the list once."
   ]
  },
  {
   "cell_type": "code",
   "execution_count": 6,
   "metadata": {
    "collapsed": true
   },
   "outputs": [],
   "source": [
    "def words_from_quotes(input1):\n",
    "\n",
    "    input1 = input1.lower()\n",
    "    input1 = str(input1.replace('\"', \"\"))\n",
    "    input1 = str(input1.replace('.', \"\"))\n",
    "    input1 = str(input1.replace(',', \"\"))\n",
    "    input1 = str(input1.replace('?', \"\"))\n",
    "    input1 = str(input1.replace(\"(\", \"\"))\n",
    "    input1 = str(input1.replace(\")\", \"\"))\n",
    "    input1 = str(input1.replace(\":\", \"\"))\n",
    "    input1 = str(input1.replace(\";\", \"\"))\n",
    "    input1 = str(input1.replace(\"'\", \"`\"))\n",
    "    word_list = re.split(\" \",input1)\n",
    "    return word_list\n"
   ]
  },
  {
   "cell_type": "markdown",
   "metadata": {},
   "source": [
    "creates a dictionary where the keys are full quotes and the values are dictionaries themselves with a key being a word and the value being the number of times the word occurs in the full quote"
   ]
  },
  {
   "cell_type": "code",
   "execution_count": 7,
   "metadata": {
    "collapsed": true
   },
   "outputs": [],
   "source": [
    "def create_postings_list_dictionary(input2):\n",
    "\n",
    "    postings_list = {}\n",
    "    counter_list = []\n",
    "    for x in input2:\n",
    "        counter_dict = {}\n",
    "        wordlist = words_from_quotes(x)\n",
    "        for word in wordlist:\n",
    "            counter = 0\n",
    "            in_counter_list = False\n",
    "            for word2 in wordlist:\n",
    "                if word == word2:\n",
    "                    counter += 1\n",
    "            for y in counter_list:\n",
    "                if word == y:\n",
    "                    in_counter_list = True\n",
    "            if in_counter_list == False and word != '-':\n",
    "                counter_dict[word] = counter\n",
    "        postings_list[x] = counter_dict\n",
    "    return postings_list\n"
   ]
  },
  {
   "cell_type": "markdown",
   "metadata": {},
   "source": [
    "The function reverse_postings_list creates a list of all words used, then creates a reverse posting list by iterating through all words."
   ]
  },
  {
   "cell_type": "code",
   "execution_count": 8,
   "metadata": {
    "collapsed": true
   },
   "outputs": [],
   "source": [
    "def reverse_postings_list(input3):\n",
    "\n",
    "    word_list = []\n",
    "    keys = input3.keys()\n",
    "\n",
    "# create list of all words used\n",
    "\n",
    "    for x in keys:\n",
    "        y = words_from_quotes(x)\n",
    "        for words in y:\n",
    "            if words in word_list:\n",
    "                pass\n",
    "            elif words != '-':\n",
    "                word_list.append(words)\n",
    "\n",
    "#create reverse posting list by iterating through all words\n",
    "    word_dict = {}\n",
    "\n",
    "    for x in word_list:\n",
    "        word_dict[x] = {}\n",
    "        for y in keys:\n",
    "            if x in input3[y]:\n",
    "                counter = input3[y][x]\n",
    "                word_dict[x][y] = counter\n",
    "\n",
    "    return word_dict"
   ]
  },
  {
   "cell_type": "markdown",
   "metadata": {},
   "source": [
    "The function tf takes in a word and a quote and returns the tf*idf value of that word in the given quote"
   ]
  },
  {
   "cell_type": "code",
   "execution_count": 9,
   "metadata": {
    "collapsed": true
   },
   "outputs": [],
   "source": [
    "def tf(word, quote):\n",
    "\n",
    "        max = Counter(quote.split()).most_common()[0][1]\n",
    "        counter = 0\n",
    "        word_list = words_from_quotes(quote)\n",
    "        for x in word_list:\n",
    "            if x == word:\n",
    "                counter += 1\n",
    "        inputnum = counter\n",
    "        tf = float(inputnum) / float(max)\n",
    "        quotelist = read_quotes(\"quotes.txt\")\n",
    "        postlist = create_postings_list_dictionary(quotelist)\n",
    "        reverse_postlist = reverse_postings_list(postlist)\n",
    "        idf = math.log(895.0 / float(len(reverse_postlist[word])))\n",
    "        return idf*tf"
   ]
  },
  {
   "cell_type": "markdown",
   "metadata": {},
   "source": [
    "The tf_idf function does not answer a particular part of the assignment but is used internally to create a dictionary with keys being the phrases and values being the tf*idf values.  It is passed in a reverse postlist"
   ]
  },
  {
   "cell_type": "code",
   "execution_count": 10,
   "metadata": {
    "collapsed": true
   },
   "outputs": [],
   "source": [
    "def tf_idf(input4):\n",
    "\n",
    "    tf_idf_dict = {}\n",
    "    for keys in input4.keys():\n",
    "        max = Counter(keys.split()).most_common()[0][1]\n",
    "        inputnum = int(input4[keys])\n",
    "        tf = float(inputnum)/float(max)\n",
    "        idf = math.log(895.0/float(len(input4)))\n",
    "        tf_idf_dict[keys] = float(tf*idf)\n",
    "    return tf_idf_dict\n"
   ]
  },
  {
   "cell_type": "markdown",
   "metadata": {},
   "source": [
    "The function one_word_quote_search takes in a single word and outputs a dictionary with keys being the phrases and the values being the tf_idf values"
   ]
  },
  {
   "cell_type": "code",
   "execution_count": 11,
   "metadata": {
    "collapsed": true
   },
   "outputs": [],
   "source": [
    "def one_word_quote_search(word):\n",
    "\n",
    "    quotelist = read_quotes(\"quotes.txt\")\n",
    "    postlist = create_postings_list_dictionary(quotelist)\n",
    "    reverse_postlist = reverse_postings_list(postlist)\n",
    "    tf_dict = tf_idf(reverse_postlist[word])\n",
    "    return tf_dict"
   ]
  },
  {
   "cell_type": "markdown",
   "metadata": {},
   "source": [
    "The function mult_words_quote_search takes in a string of undetermined length, cleans it up and splits it into words and returns a dictionary with the sums of the tf-idf for all words in each applicable quote"
   ]
  },
  {
   "cell_type": "code",
   "execution_count": 12,
   "metadata": {
    "collapsed": true
   },
   "outputs": [],
   "source": [
    "def mult_words_quote_search(words):\n",
    "\n",
    "    #takes in a string of undetermined length, splits it into words and returns a dictionary with the sums of the tf-idf\n",
    "    #for each applicable quote\n",
    "\n",
    "    quotelist = read_quotes(\"quotes.txt\")\n",
    "    postlist = create_postings_list_dictionary(quotelist)\n",
    "    reverse_postlist = reverse_postings_list(postlist)\n",
    "    words_dict = {}\n",
    "    word_list = words_from_quotes(words)\n",
    "    good_word_list = []\n",
    "    for x in range(len(word_list)):\n",
    "        if word_list[x] in reverse_postlist.keys():\n",
    "            words_dict[word_list[x]] = one_word_quote_search(word_list[x])\n",
    "            good_word_list.append(word_list[x])\n",
    "    final_dict = {}\n",
    "    for key in words_dict.keys():\n",
    "        final_dict.update(words_dict[key])\n",
    "    for key in final_dict:\n",
    "        sums = 0\n",
    "        for y in good_word_list:\n",
    "            sums += tf(y,key)\n",
    "        final_dict[key] = sums\n",
    "    pprint(final_dict)\n",
    "    return final_dict"
   ]
  },
  {
   "cell_type": "markdown",
   "metadata": {},
   "source": [
    "Now we just need to run the mult_words_quote_search with user input"
   ]
  },
  {
   "cell_type": "code",
   "execution_count": 13,
   "metadata": {
    "collapsed": false,
    "scrolled": true
   },
   "outputs": [
    {
     "name": "stdout",
     "output_type": "stream",
     "text": [
      "Input Search: feet\n",
      "{'A radical is a man with both feet firmly planted in the air - Franklin D. Roosevelt': 4.850913569219542,\n",
      " 'I cried because I had no shoes `till I met a man who had no feet So I said `You got any shoes you`re not using` - Steven Wright': 1.2127283923048855,\n",
      " 'If my children wake up on Christmas morning and have someone to thank for putting candy in their stocking have I no one to thank for putting two feet in mine - GK Chesterton': 2.425456784609771,\n",
      " 'Is there anything more beautiful than a beautiful beautiful flamingo flying across in front of a beautiful sunset And he`s carrying a beautiful rose in his beak and also he`s carrying a very beautiful painting with his feet And also you`re drunk - Jack Handey': 0.8084855948699237,\n",
      " 'Karate is a form of marital arts in which people who have had years and years of training can using only their hands and feet make some of the worst movies in the history of the world - Dave Barry': 1.2127283923048855,\n",
      " 'Show me your hands Do they have scars from giving Show me your feet Are they wounded in service Show me your heart Have you left a place for divine love - Fulton J. Sheen': 1.6169711897398473,\n",
      " 'Speeches are for the younger men who are going places And I`m not going anyplace except six feet under the floor of that little chapel adjoining the museum and library at Abilene - Dwight Eisenhower': 1.6169711897398473}\n"
     ]
    },
    {
     "data": {
      "text/plain": [
       "{'A radical is a man with both feet firmly planted in the air - Franklin D. Roosevelt': 4.850913569219542,\n",
       " 'I cried because I had no shoes `till I met a man who had no feet So I said `You got any shoes you`re not using` - Steven Wright': 1.2127283923048855,\n",
       " 'If my children wake up on Christmas morning and have someone to thank for putting candy in their stocking have I no one to thank for putting two feet in mine - GK Chesterton': 2.425456784609771,\n",
       " 'Is there anything more beautiful than a beautiful beautiful flamingo flying across in front of a beautiful sunset And he`s carrying a beautiful rose in his beak and also he`s carrying a very beautiful painting with his feet And also you`re drunk - Jack Handey': 0.8084855948699237,\n",
       " 'Karate is a form of marital arts in which people who have had years and years of training can using only their hands and feet make some of the worst movies in the history of the world - Dave Barry': 1.2127283923048855,\n",
       " 'Show me your hands Do they have scars from giving Show me your feet Are they wounded in service Show me your heart Have you left a place for divine love - Fulton J. Sheen': 1.6169711897398473,\n",
       " 'Speeches are for the younger men who are going places And I`m not going anyplace except six feet under the floor of that little chapel adjoining the museum and library at Abilene - Dwight Eisenhower': 1.6169711897398473}"
      ]
     },
     "execution_count": 13,
     "metadata": {},
     "output_type": "execute_result"
    }
   ],
   "source": [
    "mult_words_quote_search(str(raw_input(\"Input Search: \")))"
   ]
  },
  {
   "cell_type": "markdown",
   "metadata": {},
   "source": [
    "All done!"
   ]
  }
 ],
 "metadata": {
  "kernelspec": {
   "display_name": "Python [Root]",
   "language": "python",
   "name": "Python [Root]"
  },
  "language_info": {
   "codemirror_mode": {
    "name": "ipython",
    "version": 2
   },
   "file_extension": ".py",
   "mimetype": "text/x-python",
   "name": "python",
   "nbconvert_exporter": "python",
   "pygments_lexer": "ipython2",
   "version": "2.7.11"
  }
 },
 "nbformat": 4,
 "nbformat_minor": 0
}
