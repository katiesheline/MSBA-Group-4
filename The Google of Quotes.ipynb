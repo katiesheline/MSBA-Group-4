{
 "cells": [
  {
   "cell_type": "markdown",
   "metadata": {},
   "source": [
    "# The Google of Quotes\n",
    "\n",
    "## Assignment\n",
    "\n",
    "The file “quotes.txt” contains pairs of lines, with the first line being a quote and the following line being the person who said it. We want to build a search engine that, given a word or words, finds the best matching quotes.  \n",
    "\n",
    "(a) Build a list of full quotes (5 points). Read in the file, and create a list of full quotes of the form “quote - speaker”. For example, “The heart has its reasons, of which the mind knows nothing. - Blaise Pascal”.\n",
    "\n",
    "(b) Words from full quotes (5 points). Write a function that takes a full quote as argument and outputs a list of the words in the list. The words should all be lower-case, and should contain only characters, digits, or underscore. Hint: Use the lower() function of strings, and re.split() to split into words, but you must figure out the regular expression for re.split().\n",
    "\n",
    "(c) Build the postings-list dictionary (6 points). A postings-list is a dictionary whose keys are full quotes, and whose values are themselves dictionaries with key being a word, and value being the number of times the word occurs in the full quote. So, for the key “The heart has its reasons, of which the mind knows nothing. - Blaise Pascal”, the value will itself be the following dictionary: {’the’:2, ’heart’:1, ’has’:1, ’its’:1, ’reasons’:1, ’of’:1, ’which’:1, ’mind’:1, ’knows’:1, ’nothing’:1, ’blaise’:1, ’pascal’:1}.  \n",
    "\n",
    "(d) Build the reverse postings-list dictionary (6 points). A reverse postings-list is a dictionary whose keys are the words, and the values are themselves dictionaries with the key being a full quote, and the value being the number of times the word appeared in the full quote. So, for the key “entertainer”, the value is the dictionary {’An actor is at most a poet and at least an entertainer. - Marlon Brando’: 1} (only this quote contains the word “entertainer”).  \n",
    "\n",
    "(e) Write a TF-IDF function (8 points). To measure how much a full quote is about a particular word, one typically uses the TF-IDF measure.\n",
    "\n",
    "  • TF stands for “term frequency”; the term frequency of a word w in a full quote q is the number of times w occurs in q, divided by the maximum number of times any word occurs in q.  \n",
    "  • IDF stands for “inverse document frequency”: the IDF of a word w is the logarithm of the ratio of the total number N of full quotes to the number of full quotes in that contain the word w.  \n",
    "  • TF-IDF of a word w for a full quote q is just the product of the TF and IDF.  \n",
    "So, for the word “entertainer” in the Marlon Brando quote of part (d):  \n",
    "  • The TF is 0.5 (it occurs once, while the most frequent word in that quote is “at”, which occurs twice, so the TF ratio is 0.5)  \n",
    "  • The IDF is log (895/1), since there are 895 documents and the word “entertainer ” occurs in only one full quote. Write a function to compute the TF-IDF of any word in any full quote, using the postings and reverse-postings. Hint: Do import math and use math.log() to get logarithms.  \n",
    "\n",
    "(f) Quote search using a single word (5 points). Write a function that takes a word as argument, and returns a dictionary whose keys are full quotes containing that word, and whose values are the TF-IDF score of that word for that full quote.  \n",
    "\n",
    "(g) Quote search using multiple words (5 points). Write a function that takes a list of words as argument, and returns a dictionary whose keys are full quotes containing that word, and whose values are the sum of TF-IDF scores of all the words for that full quote."
   ]
  },
  {
   "cell_type": "markdown",
   "metadata": {},
   "source": [
    "## Approach\n"
   ]
  },
  {
   "cell_type": "code",
   "execution_count": 13,
   "metadata": {
    "collapsed": true,
    "scrolled": false
   },
   "outputs": [],
   "source": [
    "import copy\n",
    "import re\n",
    "from collections import Counter\n",
    "from pprint import pprint\n",
    "import math\n",
    "from collections import defaultdict\n",
    "import operator"
   ]
  },
  {
   "cell_type": "markdown",
   "metadata": {},
   "source": [
    "### Part A\n",
    "Part A required a list of each quote with it's appropriate author. However, the text file has a quote on one line and the author on the following line. In order to get each list item into the form \"quote - author\", two separate lists were created from the text file. The first list was a list of all of the quotes (taking in only odd line numbers). The second list was a list of all of the authors (taking in only even line numbers). To combine these lists, the join function was utilized, taking the an item from the quote list and pairing it with the appropriate item from the author list. The final list (full_quote_list) was returned from the function. "
   ]
  },
  {
   "cell_type": "code",
   "execution_count": null,
   "metadata": {
    "collapsed": false,
    "scrolled": true
   },
   "outputs": [],
   "source": [
    "file_name = 'quotes.txt' #file located in jupyter library\n",
    "\n",
    "quote_list = []\n",
    "author_list = []\n",
    "full_quote_list = []\n",
    "\n",
    "def build_quote_list(textFile):\n",
    "    #part a - build list of quotes-speaker\n",
    "    \n",
    "    count = 0\n",
    "    \n",
    "    with open(file_name) as textFile: #open the file as a text file\n",
    "        for line in textFile:\n",
    "            count += 1\n",
    "            if count %2 != 0:\n",
    "                quote_list.append(line.rstrip())\n",
    "            else:\n",
    "                author_list.append(line.rstrip())\n",
    "    for i in range(len(quote_list)):\n",
    "        full_quote_list.append(quote_list[i] + \" - \" + author_list[i])\n",
    "    \n",
    "    #the comments below were code for testing - commented out to eliminate output space\n",
    "    #print full_quote_list\n",
    "    #print len(quote_list)\n",
    "    #print len(author_list)\n",
    "    #print quote_list\n",
    "    #print author_list\n",
    "    \n",
    "    return full_quote_list\n",
    "    \n",
    "build_quote_list('quotes.txt') "
   ]
  },
  {
   "cell_type": "markdown",
   "metadata": {},
   "source": [
    "### Part B\n",
    "Working from the full_quote_list that was completed in part A, a second list needed to be created where each list item was a list of the words from a particular quote - excluding all special characters (-, \", ;, :, etc.). To accomplish this, a dummy list (quote_list_nochar) was used that deleted all special characters and converted all of the words into lower case. The new list (quote_list_word_split) took each word from the dummy list and split them into individual list items. The final list (quote_list_word_split) is returned and contains lists of words from each quote. "
   ]
  },
  {
   "cell_type": "code",
   "execution_count": null,
   "metadata": {
    "collapsed": false,
    "scrolled": true
   },
   "outputs": [],
   "source": [
    "quote_list_word_split = []\n",
    "\n",
    "def build_word_list(fullQuoteList):\n",
    "    #part b - convert each word to a list item\n",
    "    quote_list_nochar = copy.copy(fullQuoteList)\n",
    "    \n",
    "    for i in range(len(fullQuoteList)):\n",
    "        quote_list_nochar[i] = quote_list_nochar[i].replace(\".\", \"\")\n",
    "        quote_list_nochar[i] = quote_list_nochar[i].replace(\",\", \"\")\n",
    "        quote_list_nochar[i] = quote_list_nochar[i].replace(\"?\", \"\")\n",
    "        quote_list_nochar[i] = quote_list_nochar[i].replace(\")\", \"\")\n",
    "        quote_list_nochar[i] = quote_list_nochar[i].replace(\"(\", \"\")\n",
    "        quote_list_nochar[i] = quote_list_nochar[i].replace('\"', \"\")\n",
    "        quote_list_nochar[i] = quote_list_nochar[i].replace(\":\", \"\")\n",
    "        quote_list_nochar[i] = quote_list_nochar[i].replace(\";\", \"\")\n",
    "        quote_list_nochar[i] = quote_list_nochar[i].replace(\"'\", \"\")\n",
    "        quote_list_nochar[i] = quote_list_nochar[i].replace(\"- \", \"\")\n",
    "        quote_list_nochar[i] = quote_list_nochar[i].lower()\n",
    "        \n",
    "    for i in range(len(quote_list_nochar)):\n",
    "        quote_list_word_split.append(re.split(\" \", quote_list_nochar[i]))\n",
    "    \n",
    "    return quote_list_word_split\n",
    "\n",
    "build_word_list(full_quote_list)\n"
   ]
  },
  {
   "cell_type": "markdown",
   "metadata": {},
   "source": [
    "### Part C\n",
    "The third part of this assignment asked for a new dictionary that listed the quote as the key and a dictionary of each word from the quote paired with the number of times it appears in the quote. (example: {quote1:{word1:3, word2:2, word3:1 ...}, quote2:{word1:3, word2:2, word3:1 ...}, ...}. To accomplish this, a blank dictionary titled \"posting_list\" was created. Next, each list item (which is a list itself) in the \"quote_list_word_split\" (compiled in part B) was read. After this, each word in that list was read and compared to see if it was in a dummy dictionary (word_list - initialized as blank). If the word did not exist in the dummy dictionary it was added with value being 1. If the word did exist, the value was incremented by 1. Finally, the posting_list dictionary was appended with the quote as the key (from full_quote_list) and the dummy word list dictionary as the value. "
   ]
  },
  {
   "cell_type": "code",
   "execution_count": null,
   "metadata": {
    "collapsed": false,
    "scrolled": true
   },
   "outputs": [],
   "source": [
    "posting_list = {}\n",
    "\n",
    "def posting_list_dictionary(quoteListWordSplit):\n",
    "    #part c - create th\" dictionary with the number of times a word appears in a quote\n",
    "    \n",
    "    for i in range(len(quoteListWordSplit)):\n",
    "        word_list = {}\n",
    "        for word in quoteListWordSplit[i]:\n",
    "            if word in word_list:\n",
    "                word_list[word] += 1\n",
    "            else:\n",
    "                word_list[word] = 1\n",
    "        posting_list[full_quote_list[i]] = word_list\n",
    "    \n",
    "    return posting_list\n",
    "\n",
    "posting_list_dictionary(quote_list_word_split)"
   ]
  },
  {
   "cell_type": "markdown",
   "metadata": {},
   "source": [
    "### Part D\n",
    "\n",
    "The fourth part of the assignment required a dictionary that listed each word in the list of quotes as the key, with the value being another dictionary of the quote the word it appears in as another key and the number of times the word appears in the quote as the value. In order to accomplish this, a list of all of the words (without any repeats was defined. Next, a for loop ran through each word in the word list, searched for it in the the postings list above, and made note of it's appearances. "
   ]
  },
  {
   "cell_type": "code",
   "execution_count": null,
   "metadata": {
    "collapsed": false,
    "scrolled": true
   },
   "outputs": [],
   "source": [
    "word_dict = {}\n",
    "\n",
    "def reverse_posting_dictionary(postingList):\n",
    "    #part d - create a reverse posting of the dictionary\n",
    "\n",
    "    word_list = []\n",
    "    keys = posting_list.keys()\n",
    "    \n",
    "    for x in range(len(posting_list)):\n",
    "        for y in quote_list_word_split[x]:\n",
    "            if y in word_list and y != \" \" and y != \"\":\n",
    "                pass\n",
    "            else:\n",
    "                word_list.append(y)\n",
    "    #return word_list\n",
    "    \n",
    "    word_list = filter(None, word_list)\n",
    "    \n",
    "    #word_dict = {}\n",
    "    \n",
    "    for word in word_list:\n",
    "        word_dict[word] = {}\n",
    "        for quote in postingList:\n",
    "            if word in postingList[quote]:\n",
    "                counter = posting_list[quote][word]\n",
    "                word_dict[word][quote] = counter\n",
    "    \n",
    "    \n",
    "    return word_dict\n",
    "    \n",
    "\n",
    "reverse_posting_dictionary(posting_list) \n",
    "    "
   ]
  },
  {
   "cell_type": "markdown",
   "metadata": {
    "collapsed": true
   },
   "source": [
    "### Part E\n",
    "\n",
    "Part E of the assignment involves creating a TD_IDF function for particular words. To accomplish this, a new dictionary was created to store each of the TD_IDF values. A word list was initialized using the method from part D. Next the function searched through each word in the word list and initializes the particular TD_IDF_List dictionary for that key. The word is searched for in each quote and the appropriate values for TD and IDF are gathered. Finally, the function returns the full list of TD_IDF values in the form {word: {quote1:td_idf value, quote2:td_idf value, ...} ...}"
   ]
  },
  {
   "cell_type": "code",
   "execution_count": null,
   "metadata": {
    "collapsed": false,
    "scrolled": true
   },
   "outputs": [],
   "source": [
    "td_idf_list = {}\n",
    "\n",
    "def td_idf(postingList, reversePostingList):\n",
    "    \n",
    "    word_list = []\n",
    "    \n",
    "    for x in range(len(posting_list)):\n",
    "        for y in quote_list_word_split[x]:\n",
    "            if y in word_list and y != \" \" and y != \"\":\n",
    "                pass\n",
    "            else:\n",
    "                word_list.append(y)\n",
    "    \n",
    "    word_list = filter(None, word_list)\n",
    "    \n",
    "    #return word_list\n",
    "    \n",
    "    quoteCount = len(full_quote_list)\n",
    "    print quoteCount\n",
    "    \n",
    "    for word in word_list:\n",
    "        td_idf_list[word]={}\n",
    "        for quote in postingList:\n",
    "            if word in postingList[quote]:\n",
    "                maxWord = max(postingList[quote], key=postingList[quote].get)\n",
    "                maxWord = postingList[quote][maxWord]\n",
    "                td = (reversePostingList[word][quote])/maxWord\n",
    "                idf = math.log(quoteCount/float(len(reversePostingList[word])))\n",
    "                td_idf = td * idf\n",
    "                td_idf_list[word][quote] = td_idf\n",
    "                #print maxWord\n",
    "    return td_idf_list\n",
    "        \n",
    "td_idf(posting_list, word_dict)    "
   ]
  },
  {
   "cell_type": "markdown",
   "metadata": {},
   "source": [
    "### Part F\n",
    "\n",
    "This part of the assignment asks for a function that can search on a single word and return the list of quotes the word appears in. To accomplish this, the function takes in the td_idf_list created above. It asks the user for a word to search on and determines if the word is in the td_idf_list (organized by word as the key and the dictionary of quotes and td-idf values as the value). If so, the function returns the list of quotes and td-idf values. If not an error message appears. "
   ]
  },
  {
   "cell_type": "code",
   "execution_count": 38,
   "metadata": {
    "collapsed": false,
    "scrolled": true
   },
   "outputs": [
    {
     "name": "stdout",
     "output_type": "stream",
     "text": [
      "What word would you like to search for? beautiful\n",
      "\n",
      "Quote results for beautiful :\n",
      "\n",
      "{'Being is desirable because it is identical with Beauty, and Beauty is loved because it is Being. We ourselves possess Beauty when we are true to our own being; ugliness is in going over to another order; knowing ourselves, we are beautiful; in self-ignorance, we are ugly. - Ambrose Bierce': 0.0,\n",
      " 'In life, as in art, the beautiful moves in curves. - Edward Bulwer-Lytton': 0.0,\n",
      " 'In the Orthodox spiritual tradition, the ultimate moral question we ask is the following: Is what we are doing, is what I am doing, beautiful or not? - Carolyn Gifford': 0.0,\n",
      " 'Is there anything more beautiful than a beautiful, beautiful flamingo, flying across in front of a beautiful sunset? And he`s carrying a beautiful rose in his beak, and also he`s carrying a very beautiful painting with his feet. And also, you`re drunk. - Jack Handey': 4.840806801549768,\n",
      " 'Love is the delightful interval between meeting a beautiful girl and discovering that she looks like a haddock. - John Barrymore': 0.0,\n",
      " 'The best and most beautiful things in the world cannot be seen or even touched. They must be felt with the heart. - Helen Keller': 0.0,\n",
      " 'We must repsect the other fellow`s religion, but only in the sense and to the extent that we respect his theory that his wife is beautiful and his children are smart. - Henry Mencken': 0.0}\n"
     ]
    }
   ],
   "source": [
    "def quote_search_single():\n",
    "    searchWord = raw_input(\"What word would you like to search for? \")\n",
    "    searchWord = searchWord.lower()\n",
    "    \n",
    "    if searchWord in td_idf_list:\n",
    "        print\n",
    "        print \"Quote results for\", searchWord, \":\"\n",
    "        print\n",
    "        pprint(td_idf_list[searchWord])\n",
    "    else:\n",
    "        print\n",
    "        print \"I'm sorry, that word isn't in the list of quotes!\"\n",
    "        \n",
    "quote_search_single()"
   ]
  },
  {
   "cell_type": "markdown",
   "metadata": {},
   "source": [
    "### Part G\n",
    "\n",
    "In order to be able to search multiple words, a function was created that takes in a string of undetermined length. The function then converts the string into a list of individual words. Finally, the function searches each word and appends the quote_list dictionary with the quotes that contain those words and their td-idf value. "
   ]
  },
  {
   "cell_type": "code",
   "execution_count": 48,
   "metadata": {
    "collapsed": false
   },
   "outputs": [
    {
     "name": "stdout",
     "output_type": "stream",
     "text": [
      "What would you like to search for? beautiful, religion\n",
      "\n",
      "Your results are: \n",
      "\n",
      "{'beautiful': {'Being is desirable because it is identical with Beauty, and Beauty is loved because it is Being. We ourselves possess Beauty when we are true to our own being; ugliness is in going over to another order; knowing ourselves, we are beautiful; in self-ignorance, we are ugly. - Ambrose Bierce': 0.0,\n",
      "               'In life, as in art, the beautiful moves in curves. - Edward Bulwer-Lytton': 0.0,\n",
      "               'In the Orthodox spiritual tradition, the ultimate moral question we ask is the following: Is what we are doing, is what I am doing, beautiful or not? - Carolyn Gifford': 0.0,\n",
      "               'Is there anything more beautiful than a beautiful, beautiful flamingo, flying across in front of a beautiful sunset? And he`s carrying a beautiful rose in his beak, and also he`s carrying a very beautiful painting with his feet. And also, you`re drunk. - Jack Handey': 4.840806801549768,\n",
      "               'Love is the delightful interval between meeting a beautiful girl and discovering that she looks like a haddock. - John Barrymore': 0.0,\n",
      "               'The best and most beautiful things in the world cannot be seen or even touched. They must be felt with the heart. - Helen Keller': 0.0,\n",
      "               'We must repsect the other fellow`s religion, but only in the sense and to the extent that we respect his theory that his wife is beautiful and his children are smart. - Henry Mencken': 0.0},\n",
      " 'religion': {'Nobody can have the consolations of religion or philosophy unless he has first experienced their desolations. - Aldous Huxley': 4.484131857611035,\n",
      "              'Philosophy is questions that may never be answered. Religion is answers that may never be questioned. - Author Unknown': 0.0,\n",
      "              'Religion operates not only on the vertical plane but also on the horizontal. It seeks not only to integrate men with God but to integrate men with men and each man with himself. - Martin Luther King Jr.': 0.0,\n",
      "              'Religion to me has always been the wound, not the bandage. - Dennis Potter': 0.0,\n",
      "              'Science without religion is lame, religion without science is blind. - Albert Einstein': 4.484131857611035,\n",
      "              'The Bible is not my book, and Christianity is not my religion. I could never give assent to the long, complicated statements of Christian dogma. - Abraham Lincoln': 0.0,\n",
      "              'Theology is only thought applied to religion. - GK Chesterton': 4.484131857611035,\n",
      "              'We know too much, and are convinced of too little. Our literature is a substitute for religion, and so is our religion. - T.S. Eliot': 4.484131857611035,\n",
      "              'We must repsect the other fellow`s religion, but only in the sense and to the extent that we respect his theory that his wife is beautiful and his children are smart. - Henry Mencken': 0.0,\n",
      "              'Where knowledge ends, religion begins. - Benjamin Disraeli': 4.484131857611035}}\n",
      "\n"
     ]
    }
   ],
   "source": [
    "def quote_search_multiple():\n",
    "    searchWords = raw_input(\"What would you like to search for? \")\n",
    "    searchWords = searchWords.lower()\n",
    "    \n",
    "    word_list = searchWords.replace(\",\",\" \").replace(\";\", \" \").split()\n",
    "    quote_list = {}\n",
    "    #print word_list\n",
    "    \n",
    "    for word in word_list:\n",
    "        if word in td_idf_list:\n",
    "            quote_list[word] = td_idf_list[word]\n",
    "    \n",
    "    print\n",
    "    print \"Your results are: \"\n",
    "    print\n",
    "    pprint(quote_list)\n",
    "    print\n",
    "    \n",
    "quote_search_multiple()"
   ]
  },
  {
   "cell_type": "code",
   "execution_count": null,
   "metadata": {
    "collapsed": true
   },
   "outputs": [],
   "source": []
  }
 ],
 "metadata": {
  "kernelspec": {
   "display_name": "Python 2",
   "language": "python",
   "name": "python2"
  },
  "language_info": {
   "codemirror_mode": {
    "name": "ipython",
    "version": 2
   },
   "file_extension": ".py",
   "mimetype": "text/x-python",
   "name": "python",
   "nbconvert_exporter": "python",
   "pygments_lexer": "ipython2",
   "version": "2.7.11"
  }
 },
 "nbformat": 4,
 "nbformat_minor": 0
}
